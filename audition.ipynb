{
 "cells": [
  {
   "cell_type": "markdown",
   "metadata": {},
   "source": [
    "# Project information"
   ]
  },
  {
   "cell_type": "markdown",
   "metadata": {},
   "source": [
    "**Project title**: Exploring the world of Disney movies.\n",
    "\n",
    "**Name:** Sirinda Palahan\n",
    "\n",
    "**Email address associated with your DataCamp account:** sirinda111@gmail.com\n",
    "\n",
    "**Project description**:  \n",
    "\n",
    "Walt Disney Studios is one of the major film studios in the world. Disney has released more than 600 films since the 1930s, covering a wide range of genre. While some movies may be designed towards kids, many are intended for a broad audience. In this project, we will analyze data compiled from multiple sources to see how Disney movies have changed in popularity since its first movie release. We will also perform hypothesis testing to see what makes a movie successful.\n",
    "\n",
    "This project assumes that you can manipulate data using Pandas library and make basic plots using Seaborn library. Moreover, you should be familiar with statistical inference to be able to perform two-sample bootstrap hypothesis tests for difference of means. We recommend that you take a look at the following courses:\n",
    "1. Merging DataFrames with pandas\n",
    "2. Data Visualization with Seaborn\n",
    "3. Statistical Thinking in Python (Part 2) \n",
    "\n",
    "The dataset used in this project is a modified version of the Disney Character Success dataset available at https://data.world/kgarrett/disney-character-success-00-16  \n"
   ]
  },
  {
   "cell_type": "markdown",
   "metadata": {},
   "source": [
    "# Project introduction\n"
   ]
  },
  {
   "cell_type": "markdown",
   "metadata": {
    "tags": [
     "type:NotebookTask"
    ]
   },
   "source": [
    "## 1. The dataset"
   ]
  },
  {
   "cell_type": "markdown",
   "metadata": {
    "tags": [
     "@context"
    ]
   },
   "source": [
    "Walt Disney Studios has been the foundation on which The Walt Disney Company was built. The Studios has produced more than 600 films since their debut film,  Snow White and the Seven Dwarfs in 1937. While many of its films were big hits, some of them were not. In this notebook, we will explore a dataset of Disney movies and analyze what contributes to the success of Disney movies.\n",
    "\n",
    "\n",
    "First, we will take a look at the Disney dataset which contains three files as follows: \n",
    "* *disney_movies_total_gross.csv*: This file consists of 579 Disney movies. Features include movie title, release date, genre, MPAA rating, total gross, and inflation-adjusted gross. \n",
    "* *disney_characters.csv*: This file contains Disney animated movies and the names and genders of heroes/villains in each film. \n",
    "* *disney_director.csv*: This file includes Disney animated movies and the director name in each movie.\n",
    "\n",
    "Let's load the files and see how the data look like.\n"
   ]
  },
  {
   "cell_type": "code",
   "execution_count": 1,
   "metadata": {
    "scrolled": false,
    "tags": [
     "@solution"
    ]
   },
   "outputs": [
    {
     "data": {
      "text/html": [
       "<div>\n",
       "<style scoped>\n",
       "    .dataframe tbody tr th:only-of-type {\n",
       "        vertical-align: middle;\n",
       "    }\n",
       "\n",
       "    .dataframe tbody tr th {\n",
       "        vertical-align: top;\n",
       "    }\n",
       "\n",
       "    .dataframe thead th {\n",
       "        text-align: right;\n",
       "    }\n",
       "</style>\n",
       "<table border=\"1\" class=\"dataframe\">\n",
       "  <thead>\n",
       "    <tr style=\"text-align: right;\">\n",
       "      <th></th>\n",
       "      <th>movie_title</th>\n",
       "      <th>release_date</th>\n",
       "      <th>genre</th>\n",
       "      <th>mpaa_rating</th>\n",
       "      <th>total_gross</th>\n",
       "      <th>inflation_adjusted_gross</th>\n",
       "    </tr>\n",
       "  </thead>\n",
       "  <tbody>\n",
       "    <tr>\n",
       "      <th>0</th>\n",
       "      <td>Snow White and the Seven Dwarfs</td>\n",
       "      <td>1937-12-21</td>\n",
       "      <td>Musical</td>\n",
       "      <td>G</td>\n",
       "      <td>184925485</td>\n",
       "      <td>5228953251</td>\n",
       "    </tr>\n",
       "    <tr>\n",
       "      <th>1</th>\n",
       "      <td>Pinocchio</td>\n",
       "      <td>1940-02-09</td>\n",
       "      <td>Adventure</td>\n",
       "      <td>G</td>\n",
       "      <td>84300000</td>\n",
       "      <td>2188229052</td>\n",
       "    </tr>\n",
       "    <tr>\n",
       "      <th>2</th>\n",
       "      <td>Fantasia</td>\n",
       "      <td>1940-11-13</td>\n",
       "      <td>Musical</td>\n",
       "      <td>G</td>\n",
       "      <td>83320000</td>\n",
       "      <td>2187090808</td>\n",
       "    </tr>\n",
       "    <tr>\n",
       "      <th>3</th>\n",
       "      <td>Song of the South</td>\n",
       "      <td>1946-11-12</td>\n",
       "      <td>Adventure</td>\n",
       "      <td>G</td>\n",
       "      <td>65000000</td>\n",
       "      <td>1078510579</td>\n",
       "    </tr>\n",
       "    <tr>\n",
       "      <th>4</th>\n",
       "      <td>Cinderella</td>\n",
       "      <td>1950-02-15</td>\n",
       "      <td>Drama</td>\n",
       "      <td>G</td>\n",
       "      <td>85000000</td>\n",
       "      <td>920608730</td>\n",
       "    </tr>\n",
       "  </tbody>\n",
       "</table>\n",
       "</div>"
      ],
      "text/plain": [
       "                       movie_title release_date      genre mpaa_rating  \\\n",
       "0  Snow White and the Seven Dwarfs   1937-12-21    Musical           G   \n",
       "1                        Pinocchio   1940-02-09  Adventure           G   \n",
       "2                         Fantasia   1940-11-13    Musical           G   \n",
       "3                Song of the South   1946-11-12  Adventure           G   \n",
       "4                       Cinderella   1950-02-15      Drama           G   \n",
       "\n",
       "   total_gross  inflation_adjusted_gross  \n",
       "0    184925485                5228953251  \n",
       "1     84300000                2188229052  \n",
       "2     83320000                2187090808  \n",
       "3     65000000                1078510579  \n",
       "4     85000000                 920608730  "
      ]
     },
     "metadata": {},
     "output_type": "display_data"
    },
    {
     "data": {
      "text/html": [
       "<div>\n",
       "<style scoped>\n",
       "    .dataframe tbody tr th:only-of-type {\n",
       "        vertical-align: middle;\n",
       "    }\n",
       "\n",
       "    .dataframe tbody tr th {\n",
       "        vertical-align: top;\n",
       "    }\n",
       "\n",
       "    .dataframe thead th {\n",
       "        text-align: right;\n",
       "    }\n",
       "</style>\n",
       "<table border=\"1\" class=\"dataframe\">\n",
       "  <thead>\n",
       "    <tr style=\"text-align: right;\">\n",
       "      <th></th>\n",
       "      <th>movie_title</th>\n",
       "      <th>release_date</th>\n",
       "      <th>hero</th>\n",
       "      <th>villian</th>\n",
       "      <th>song</th>\n",
       "    </tr>\n",
       "  </thead>\n",
       "  <tbody>\n",
       "    <tr>\n",
       "      <th>0</th>\n",
       "      <td>Snow White and the Seven Dwarfs</td>\n",
       "      <td>1937-12-21</td>\n",
       "      <td>Snow White</td>\n",
       "      <td>Evil Queen</td>\n",
       "      <td>Some Day My Prince Will Come</td>\n",
       "    </tr>\n",
       "    <tr>\n",
       "      <th>1</th>\n",
       "      <td>Pinocchio</td>\n",
       "      <td>1940-02-07</td>\n",
       "      <td>Pinocchio</td>\n",
       "      <td>Stromboli</td>\n",
       "      <td>When You Wish upon a Star</td>\n",
       "    </tr>\n",
       "    <tr>\n",
       "      <th>2</th>\n",
       "      <td>Fantasia</td>\n",
       "      <td>1940-11-13</td>\n",
       "      <td>NaN</td>\n",
       "      <td>Chernabog</td>\n",
       "      <td>NaN</td>\n",
       "    </tr>\n",
       "    <tr>\n",
       "      <th>3</th>\n",
       "      <td>Dumbo</td>\n",
       "      <td>1941-10-23</td>\n",
       "      <td>Dumbo</td>\n",
       "      <td>Ringmaster</td>\n",
       "      <td>Baby Mine</td>\n",
       "    </tr>\n",
       "    <tr>\n",
       "      <th>4</th>\n",
       "      <td>Bambi</td>\n",
       "      <td>1942-08-13</td>\n",
       "      <td>Bambi</td>\n",
       "      <td>Hunter</td>\n",
       "      <td>Love Is a Song</td>\n",
       "    </tr>\n",
       "  </tbody>\n",
       "</table>\n",
       "</div>"
      ],
      "text/plain": [
       "                       movie_title release_date        hero     villian  \\\n",
       "0  Snow White and the Seven Dwarfs   1937-12-21  Snow White  Evil Queen   \n",
       "1                        Pinocchio   1940-02-07   Pinocchio   Stromboli   \n",
       "2                         Fantasia   1940-11-13         NaN   Chernabog   \n",
       "3                            Dumbo   1941-10-23       Dumbo  Ringmaster   \n",
       "4                            Bambi   1942-08-13       Bambi      Hunter   \n",
       "\n",
       "                           song  \n",
       "0  Some Day My Prince Will Come  \n",
       "1     When You Wish upon a Star  \n",
       "2                           NaN  \n",
       "3                     Baby Mine  \n",
       "4                Love Is a Song  "
      ]
     },
     "metadata": {},
     "output_type": "display_data"
    },
    {
     "data": {
      "text/html": [
       "<div>\n",
       "<style scoped>\n",
       "    .dataframe tbody tr th:only-of-type {\n",
       "        vertical-align: middle;\n",
       "    }\n",
       "\n",
       "    .dataframe tbody tr th {\n",
       "        vertical-align: top;\n",
       "    }\n",
       "\n",
       "    .dataframe thead th {\n",
       "        text-align: right;\n",
       "    }\n",
       "</style>\n",
       "<table border=\"1\" class=\"dataframe\">\n",
       "  <thead>\n",
       "    <tr style=\"text-align: right;\">\n",
       "      <th></th>\n",
       "      <th>name</th>\n",
       "      <th>director</th>\n",
       "    </tr>\n",
       "  </thead>\n",
       "  <tbody>\n",
       "    <tr>\n",
       "      <th>0</th>\n",
       "      <td>Snow White and the Seven Dwarfs</td>\n",
       "      <td>David Hand</td>\n",
       "    </tr>\n",
       "    <tr>\n",
       "      <th>1</th>\n",
       "      <td>Pinocchio</td>\n",
       "      <td>Ben Sharpsteen</td>\n",
       "    </tr>\n",
       "    <tr>\n",
       "      <th>2</th>\n",
       "      <td>Fantasia</td>\n",
       "      <td>full credits</td>\n",
       "    </tr>\n",
       "    <tr>\n",
       "      <th>3</th>\n",
       "      <td>Dumbo</td>\n",
       "      <td>Ben Sharpsteen</td>\n",
       "    </tr>\n",
       "    <tr>\n",
       "      <th>4</th>\n",
       "      <td>Bambi</td>\n",
       "      <td>David Hand</td>\n",
       "    </tr>\n",
       "  </tbody>\n",
       "</table>\n",
       "</div>"
      ],
      "text/plain": [
       "                              name        director\n",
       "0  Snow White and the Seven Dwarfs      David Hand\n",
       "1                        Pinocchio  Ben Sharpsteen\n",
       "2                         Fantasia    full credits\n",
       "3                            Dumbo  Ben Sharpsteen\n",
       "4                            Bambi      David Hand"
      ]
     },
     "metadata": {},
     "output_type": "display_data"
    }
   ],
   "source": [
    "# import Pandas library\n",
    "import pandas as pd\n",
    "\n",
    "# Read the files into DataFrames.\n",
    "gross_df = pd.read_csv('./datasets/disney_movies_total_gross.csv', delimiter=',', encoding=\"utf-8\", parse_dates=['release_date']) \n",
    "character_df = pd.read_csv('./datasets/disney_characters.csv', delimiter=',', encoding=\"utf-8\", parse_dates=['release_date'] )\n",
    "director_df = pd.read_csv('./datasets/disney_director.csv', delimiter=',', encoding=\"utf-8\") \n",
    "\n",
    "# Let's see the first 5 rows in each DataFrame (use display() to print DataFrame as table)\n",
    "display(gross_df.head())\n",
    "display(character_df.head())\n",
    "display(director_df.head())"
   ]
  },
  {
   "cell_type": "markdown",
   "metadata": {
    "tags": [
     "type:NotebookTask"
    ]
   },
   "source": [
    "## 2. Top 10 box-office movies"
   ]
  },
  {
   "cell_type": "markdown",
   "metadata": {
    "tags": [
     "@context"
    ]
   },
   "source": [
    "First, Let's see which are the 10 Disney movies that have earned the most at the box office.\n"
   ]
  },
  {
   "cell_type": "code",
   "execution_count": 2,
   "metadata": {
    "scrolled": false,
    "tags": [
     "@solution"
    ]
   },
   "outputs": [
    {
     "data": {
      "text/html": [
       "<div>\n",
       "<style scoped>\n",
       "    .dataframe tbody tr th:only-of-type {\n",
       "        vertical-align: middle;\n",
       "    }\n",
       "\n",
       "    .dataframe tbody tr th {\n",
       "        vertical-align: top;\n",
       "    }\n",
       "\n",
       "    .dataframe thead th {\n",
       "        text-align: right;\n",
       "    }\n",
       "</style>\n",
       "<table border=\"1\" class=\"dataframe\">\n",
       "  <thead>\n",
       "    <tr style=\"text-align: right;\">\n",
       "      <th></th>\n",
       "      <th>movie_title</th>\n",
       "      <th>release_date</th>\n",
       "      <th>genre</th>\n",
       "      <th>mpaa_rating</th>\n",
       "      <th>inflation_adjusted_gross</th>\n",
       "      <th>total_gross_million</th>\n",
       "    </tr>\n",
       "  </thead>\n",
       "  <tbody>\n",
       "    <tr>\n",
       "      <th>564</th>\n",
       "      <td>Star Wars Ep. VII: The Force Awakens</td>\n",
       "      <td>2015-12-18</td>\n",
       "      <td>Adventure</td>\n",
       "      <td>PG-13</td>\n",
       "      <td>936662225</td>\n",
       "      <td>936.662225</td>\n",
       "    </tr>\n",
       "    <tr>\n",
       "      <th>524</th>\n",
       "      <td>The Avengers</td>\n",
       "      <td>2012-05-04</td>\n",
       "      <td>Action</td>\n",
       "      <td>PG-13</td>\n",
       "      <td>660081224</td>\n",
       "      <td>623.279547</td>\n",
       "    </tr>\n",
       "    <tr>\n",
       "      <th>578</th>\n",
       "      <td>Rogue One: A Star Wars Story</td>\n",
       "      <td>2016-12-16</td>\n",
       "      <td>Adventure</td>\n",
       "      <td>PG-13</td>\n",
       "      <td>529483936</td>\n",
       "      <td>529.483936</td>\n",
       "    </tr>\n",
       "    <tr>\n",
       "      <th>571</th>\n",
       "      <td>Finding Dory</td>\n",
       "      <td>2016-06-17</td>\n",
       "      <td>Adventure</td>\n",
       "      <td>PG</td>\n",
       "      <td>486295561</td>\n",
       "      <td>486.295561</td>\n",
       "    </tr>\n",
       "    <tr>\n",
       "      <th>558</th>\n",
       "      <td>Avengers: Age of Ultron</td>\n",
       "      <td>2015-05-01</td>\n",
       "      <td>Action</td>\n",
       "      <td>PG-13</td>\n",
       "      <td>459005868</td>\n",
       "      <td>459.005868</td>\n",
       "    </tr>\n",
       "    <tr>\n",
       "      <th>441</th>\n",
       "      <td>Pirates of the Caribbean: Dead Man’…</td>\n",
       "      <td>2006-07-07</td>\n",
       "      <td>Adventure</td>\n",
       "      <td>PG-13</td>\n",
       "      <td>544817142</td>\n",
       "      <td>423.315812</td>\n",
       "    </tr>\n",
       "    <tr>\n",
       "      <th>179</th>\n",
       "      <td>The Lion King</td>\n",
       "      <td>1994-06-15</td>\n",
       "      <td>Adventure</td>\n",
       "      <td>G</td>\n",
       "      <td>761640898</td>\n",
       "      <td>422.780140</td>\n",
       "    </tr>\n",
       "    <tr>\n",
       "      <th>499</th>\n",
       "      <td>Toy Story 3</td>\n",
       "      <td>2010-06-18</td>\n",
       "      <td>Adventure</td>\n",
       "      <td>G</td>\n",
       "      <td>443408255</td>\n",
       "      <td>415.004880</td>\n",
       "    </tr>\n",
       "    <tr>\n",
       "      <th>532</th>\n",
       "      <td>Iron Man 3</td>\n",
       "      <td>2013-05-03</td>\n",
       "      <td>Action</td>\n",
       "      <td>PG-13</td>\n",
       "      <td>424084233</td>\n",
       "      <td>408.992272</td>\n",
       "    </tr>\n",
       "    <tr>\n",
       "      <th>569</th>\n",
       "      <td>Captain America: Civil War</td>\n",
       "      <td>2016-05-06</td>\n",
       "      <td>Action</td>\n",
       "      <td>PG-13</td>\n",
       "      <td>408084349</td>\n",
       "      <td>408.084349</td>\n",
       "    </tr>\n",
       "  </tbody>\n",
       "</table>\n",
       "</div>"
      ],
      "text/plain": [
       "                              movie_title release_date      genre mpaa_rating  \\\n",
       "564  Star Wars Ep. VII: The Force Awakens   2015-12-18  Adventure       PG-13   \n",
       "524                          The Avengers   2012-05-04     Action       PG-13   \n",
       "578          Rogue One: A Star Wars Story   2016-12-16  Adventure       PG-13   \n",
       "571                          Finding Dory   2016-06-17  Adventure          PG   \n",
       "558               Avengers: Age of Ultron   2015-05-01     Action       PG-13   \n",
       "441  Pirates of the Caribbean: Dead Man’…   2006-07-07  Adventure       PG-13   \n",
       "179                         The Lion King   1994-06-15  Adventure           G   \n",
       "499                           Toy Story 3   2010-06-18  Adventure           G   \n",
       "532                            Iron Man 3   2013-05-03     Action       PG-13   \n",
       "569            Captain America: Civil War   2016-05-06     Action       PG-13   \n",
       "\n",
       "     inflation_adjusted_gross  total_gross_million  \n",
       "564                 936662225           936.662225  \n",
       "524                 660081224           623.279547  \n",
       "578                 529483936           529.483936  \n",
       "571                 486295561           486.295561  \n",
       "558                 459005868           459.005868  \n",
       "441                 544817142           423.315812  \n",
       "179                 761640898           422.780140  \n",
       "499                 443408255           415.004880  \n",
       "532                 424084233           408.992272  \n",
       "569                 408084349           408.084349  "
      ]
     },
     "metadata": {},
     "output_type": "display_data"
    }
   ],
   "source": [
    "#For readability, we will transform the currency of total gross from dollars to million dollars and store the result in the new column \n",
    "gross_df['total_gross_million'] = gross_df['total_gross']/1000000\n",
    "\n",
    "# Delete the old total_gross attribute\n",
    "del gross_df['total_gross']\n",
    "\n",
    "#Then, sort data by the total gross in ascending order \n",
    "top10_gross = gross_df.sort_values(by='total_gross_million', ascending=False) \n",
    "\n",
    "#Finally, print the top 10  movies \n",
    "display(top10_gross.head(10))\n"
   ]
  },
  {
   "cell_type": "markdown",
   "metadata": {
    "tags": [
     "type:NotebookTask"
    ]
   },
   "source": [
    "##  Movie genre popularity"
   ]
  },
  {
   "cell_type": "markdown",
   "metadata": {
    "tags": [
     "@context"
    ]
   },
   "source": [
    "From the top 10 movies above, it seems that some genres are more popular than others. So, we will check which genres are growing stronger in popularity."
   ]
  },
  {
   "cell_type": "code",
   "execution_count": 4,
   "metadata": {
    "scrolled": false,
    "tags": [
     "@solution"
    ]
   },
   "outputs": [
    {
     "data": {
      "text/plain": [
       "genre\n",
       "Action                  4184.563282\n",
       "Adventure              16389.069453\n",
       "Black Comedy              97.543212\n",
       "Comedy                  8119.619678\n",
       "Concert/Performance      103.456466\n",
       "Documentary              180.685619\n",
       "Drama                   4106.972970\n",
       "Horror                    87.068872\n",
       "Musical                 1157.284155\n",
       "Romantic Comedy         1152.206855\n",
       "Thriller/Suspense       1406.806519\n",
       "Western                  359.011459\n",
       "Name: total_gross_million, dtype: float64"
      ]
     },
     "metadata": {},
     "output_type": "display_data"
    },
    {
     "data": {
      "text/html": [
       "<div>\n",
       "<style scoped>\n",
       "    .dataframe tbody tr th:only-of-type {\n",
       "        vertical-align: middle;\n",
       "    }\n",
       "\n",
       "    .dataframe tbody tr th {\n",
       "        vertical-align: top;\n",
       "    }\n",
       "\n",
       "    .dataframe thead th {\n",
       "        text-align: right;\n",
       "    }\n",
       "</style>\n",
       "<table border=\"1\" class=\"dataframe\">\n",
       "  <thead>\n",
       "    <tr style=\"text-align: right;\">\n",
       "      <th></th>\n",
       "      <th>genre</th>\n",
       "      <th>year</th>\n",
       "      <th>inflation_adjusted_gross</th>\n",
       "      <th>total_gross_million</th>\n",
       "    </tr>\n",
       "  </thead>\n",
       "  <tbody>\n",
       "    <tr>\n",
       "      <th>0</th>\n",
       "      <td>Action</td>\n",
       "      <td>1981</td>\n",
       "      <td>0</td>\n",
       "      <td>0.000000</td>\n",
       "    </tr>\n",
       "    <tr>\n",
       "      <th>1</th>\n",
       "      <td>Action</td>\n",
       "      <td>1982</td>\n",
       "      <td>77184895</td>\n",
       "      <td>26.918576</td>\n",
       "    </tr>\n",
       "    <tr>\n",
       "      <th>2</th>\n",
       "      <td>Action</td>\n",
       "      <td>1988</td>\n",
       "      <td>72107034</td>\n",
       "      <td>35.155392</td>\n",
       "    </tr>\n",
       "    <tr>\n",
       "      <th>3</th>\n",
       "      <td>Action</td>\n",
       "      <td>1990</td>\n",
       "      <td>236717544</td>\n",
       "      <td>118.499177</td>\n",
       "    </tr>\n",
       "    <tr>\n",
       "      <th>4</th>\n",
       "      <td>Action</td>\n",
       "      <td>1991</td>\n",
       "      <td>115837145</td>\n",
       "      <td>57.849873</td>\n",
       "    </tr>\n",
       "  </tbody>\n",
       "</table>\n",
       "</div>"
      ],
      "text/plain": [
       "    genre  year  inflation_adjusted_gross  total_gross_million\n",
       "0  Action  1981                         0             0.000000\n",
       "1  Action  1982                  77184895            26.918576\n",
       "2  Action  1988                  72107034            35.155392\n",
       "3  Action  1990                 236717544           118.499177\n",
       "4  Action  1991                 115837145            57.849873"
      ]
     },
     "metadata": {},
     "output_type": "display_data"
    },
    {
     "data": {
      "text/plain": [
       "<seaborn.axisgrid.FacetGrid at 0x2939e3ee748>"
      ]
     },
     "execution_count": 4,
     "metadata": {},
     "output_type": "execute_result"
    },
    {
     "data": {
      "image/png": "[encoded data removed]",
      "text/plain": [
       "<Figure size 502x360 with 1 Axes>"
      ]
     },
     "metadata": {
      "needs_background": "light"
     },
     "output_type": "display_data"
    }
   ],
   "source": [
    "# We will take a quick look at a summary of the total gross by genre  \n",
    "display(gross_df.groupby('genre').sum()['total_gross_million'])\n",
    "\n",
    "# We will use a line plot to show the genre trend. So we need a year variable.\n",
    "# Extract year from release_date attribute and store the result in the new column \n",
    "gross_df['year'] = [d.year for d in gross_df[\"release_date\"]]\n",
    "\n",
    "# Calculate sum of total gross by genre and then by year.  \n",
    "group = gross_df.groupby(['genre','year']).sum()\n",
    " \n",
    "# Convert the GroupBy object to a DataFrame so that we can use the DataFrame for a line plot\n",
    "# We can do that by reseting the index of the GroupBy object  \n",
    "# (May need to give a hint on this reset_index() function)\n",
    "genre_yearly_df = group.reset_index()\n",
    "\n",
    "# Print the first 5 rows of the DataFrame above\n",
    "display(genre_yearly_df.head())\n",
    "\n",
    "# Make a line plot using a Seaborn library \n",
    "import seaborn as sns\n",
    "sns.relplot(x='year', y='total_gross_million', kind='line', hue='genre',data=genre_yearly_df)  "
   ]
  },
  {
   "cell_type": "markdown",
   "metadata": {},
   "source": [
    "The line plot supports our belief that some genres are growing faster in popularity than others. For Disney movies, Adventure and Action genres are growing the fastest."
   ]
  }
 ],
 "metadata": {
  "celltoolbar": "Tags",
  "kernelspec": {
   "display_name": "Python 3",
   "language": "python",
   "name": "python3"
  },
  "language_info": {
   "codemirror_mode": {
    "name": "ipython",
    "version": 3
   },
   "file_extension": ".py",
   "mimetype": "text/x-python",
   "name": "python",
   "nbconvert_exporter": "python",
   "pygments_lexer": "ipython3",
   "version": "3.7.0"
  }
 },
 "nbformat": 4,
 "nbformat_minor": 2
}
